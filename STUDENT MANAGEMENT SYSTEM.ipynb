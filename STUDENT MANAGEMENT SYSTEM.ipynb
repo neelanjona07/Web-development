{
 "cells": [
  {
   "cell_type": "code",
   "execution_count": 1,
   "metadata": {},
   "outputs": [],
   "source": [
    "import sqlite3"
   ]
  },
  {
   "cell_type": "code",
   "execution_count": 2,
   "metadata": {},
   "outputs": [],
   "source": [
    "from flask import Flask,jsonify,request"
   ]
  },
  {
   "cell_type": "code",
   "execution_count": 3,
   "metadata": {},
   "outputs": [],
   "source": [
    "app=Flask(__name__)"
   ]
  },
  {
   "cell_type": "code",
   "execution_count": 4,
   "metadata": {},
   "outputs": [],
   "source": [
    "@app.route(\"/addstudents\",methods=[\"POST\"])\n",
    "def add_students():\n",
    "    try:\n",
    "        a=request.get_json()\n",
    "        conn=sqlite3.connect(\"student.db\")\n",
    "        cur=conn.cursor()\n",
    "        #cur.execute(\"drop table if exists student\")\n",
    "        cur.execute(\"create table if not exists student(name text,st_id integer primary key,gender text)\")\n",
    "        m=\"insert into student(name,st_id,gender)values(?,?,?)\"\n",
    "        cur.execute(m,(a[\"name\"],a[\"st_id\"],a[\"gender\"]))\n",
    "        conn.commit()\n",
    "    except KeyError:\n",
    "        return \"invalid entry\"\n",
    "    except:\n",
    "        return \"student already exists...\"\n",
    "    else:\n",
    "        return \"student registered..\"\n",
    "    finally:\n",
    "        conn.close()\n",
    "    \n",
    "    "
   ]
  },
  {
   "cell_type": "code",
   "execution_count": 5,
   "metadata": {},
   "outputs": [],
   "source": [
    "@app.route(\"/showst\")\n",
    "def fun():\n",
    "    conn=sqlite3.connect(\"student.db\")\n",
    "    cur=conn.cursor()\n",
    "    m=cur.execute(\"select*from student\")\n",
    "    return jsonify({\"studentlist\":list(m)})\n",
    "    "
   ]
  },
  {
   "cell_type": "code",
   "execution_count": 6,
   "metadata": {},
   "outputs": [],
   "source": [
    "@app.route(\"/showstd\",methods=[\"POST\"])\n",
    "def show():\n",
    "    m=request.get_json()\n",
    "    conn=sqlite3.connect(\"student.db\")\n",
    "    cur=conn.cursor()\n",
    "    a=cur.execute(\"select*from student where st_id='{}'\".format(m[\"st_id\"]))\n",
    "    if len(list(a))==0:\n",
    "        return \"student id doesn't exist\"\n",
    "    else:\n",
    "        return jsonify({\"studentlist\":list(a)})\n",
    "        conn.close()"
   ]
  },
  {
   "cell_type": "code",
   "execution_count": 7,
   "metadata": {},
   "outputs": [],
   "source": [
    "@app.route(\"/deletestd\",methods=[\"POST\"])\n",
    "def delete():\n",
    "    m=request.get_json()\n",
    "    conn=sqlite3.connect(\"student.db\")\n",
    "    cur=conn.cursor()\n",
    "    a=cur.execute(\"select*from student where st_id='{}'\".format(m[\"st_id\"]))\n",
    "    if len(list(a))==0:\n",
    "        return \"student id doesn't exist\"\n",
    "    else:\n",
    "        cur.execute(\"delete from student where st_id='{}'\".format(m[\"st_id\"]))\n",
    "        conn.commit()\n",
    "        conn.close()\n",
    "        return \"record deleted\"\n",
    "    \n",
    "        \n",
    "        \n",
    "    "
   ]
  },
  {
   "cell_type": "code",
   "execution_count": 8,
   "metadata": {},
   "outputs": [],
   "source": [
    "@app.route(\"/updaterec\",methods=[\"POST\"])\n",
    "def update():\n",
    "    m=request.get_json()\n",
    "    conn=sqlite3.connect(\"student.db\")\n",
    "    cur=conn.cursor()\n",
    "    a=cur.execute(\"select*from student where st_id='{}'\".format(m[\"st_id\"]))\n",
    "    if len(list(a))==0:\n",
    "        return \"student id doesn't exist\"\n",
    "    else:\n",
    "        cur.execute(\"update student set name='{}' where st_id='{}'\".format(m[\"name\"],m[\"st_id\"]))\n",
    "        conn.commit()\n",
    "        conn.close()\n",
    "        return \"record updated\"\n",
    "    "
   ]
  },
  {
   "cell_type": "code",
   "execution_count": null,
   "metadata": {},
   "outputs": [
    {
     "name": "stdout",
     "output_type": "stream",
     "text": [
      " * Serving Flask app \"__main__\" (lazy loading)\n",
      " * Environment: production\n",
      "   WARNING: This is a development server. Do not use it in a production deployment.\n",
      "   Use a production WSGI server instead.\n",
      " * Debug mode: off\n"
     ]
    },
    {
     "name": "stderr",
     "output_type": "stream",
     "text": [
      " * Running on http://127.0.0.1:5000/ (Press CTRL+C to quit)\n",
      "127.0.0.1 - - [24/Jul/2020 22:01:04] \"\u001b[33mPOST /adduser HTTP/1.1\u001b[0m\" 404 -\n",
      "127.0.0.1 - - [24/Jul/2020 22:01:37] \"\u001b[37mPOST /addstudents HTTP/1.1\u001b[0m\" 200 -\n",
      "[2020-07-24 22:03:11,566] ERROR in app: Exception on /addstudents [POST]\n",
      "Traceback (most recent call last):\n",
      "  File \"C:\\Users\\admin\\anaconda3\\lib\\site-packages\\flask\\app.py\", line 2446, in wsgi_app\n",
      "    response = self.full_dispatch_request()\n",
      "  File \"C:\\Users\\admin\\anaconda3\\lib\\site-packages\\flask\\app.py\", line 1951, in full_dispatch_request\n",
      "    rv = self.handle_user_exception(e)\n",
      "  File \"C:\\Users\\admin\\anaconda3\\lib\\site-packages\\flask\\app.py\", line 1820, in handle_user_exception\n",
      "    reraise(exc_type, exc_value, tb)\n",
      "  File \"C:\\Users\\admin\\anaconda3\\lib\\site-packages\\flask\\_compat.py\", line 39, in reraise\n",
      "    raise value\n",
      "  File \"C:\\Users\\admin\\anaconda3\\lib\\site-packages\\flask\\app.py\", line 1949, in full_dispatch_request\n",
      "    rv = self.dispatch_request()\n",
      "  File \"C:\\Users\\admin\\anaconda3\\lib\\site-packages\\flask\\app.py\", line 1935, in dispatch_request\n",
      "    return self.view_functions[rule.endpoint](**req.view_args)\n",
      "  File \"<ipython-input-4-94d6e837dd15>\", line 19, in add_students\n",
      "    conn.close()\n",
      "UnboundLocalError: local variable 'conn' referenced before assignment\n",
      "127.0.0.1 - - [24/Jul/2020 22:03:11] \"\u001b[35m\u001b[1mPOST /addstudents HTTP/1.1\u001b[0m\" 500 -\n",
      "127.0.0.1 - - [24/Jul/2020 22:03:21] \"\u001b[37mPOST /addstudents HTTP/1.1\u001b[0m\" 200 -\n",
      "127.0.0.1 - - [24/Jul/2020 22:04:07] \"\u001b[37mPOST /addstudents HTTP/1.1\u001b[0m\" 200 -\n",
      "127.0.0.1 - - [24/Jul/2020 22:05:23] \"\u001b[37mPOST /addstudents HTTP/1.1\u001b[0m\" 200 -\n",
      "127.0.0.1 - - [24/Jul/2020 22:05:40] \"\u001b[37mPOST /addstudents HTTP/1.1\u001b[0m\" 200 -\n",
      "127.0.0.1 - - [24/Jul/2020 22:06:05] \"\u001b[37mGET /showst HTTP/1.1\u001b[0m\" 200 -\n"
     ]
    }
   ],
   "source": [
    "app.run(port=5000)"
   ]
  },
  {
   "cell_type": "code",
   "execution_count": null,
   "metadata": {},
   "outputs": [],
   "source": []
  },
  {
   "cell_type": "code",
   "execution_count": null,
   "metadata": {},
   "outputs": [],
   "source": []
  }
 ],
 "metadata": {
  "kernelspec": {
   "display_name": "Python 3",
   "language": "python",
   "name": "python3"
  },
  "language_info": {
   "codemirror_mode": {
    "name": "ipython",
    "version": 3
   },
   "file_extension": ".py",
   "mimetype": "text/x-python",
   "name": "python",
   "nbconvert_exporter": "python",
   "pygments_lexer": "ipython3",
   "version": "3.7.6"
  }
 },
 "nbformat": 4,
 "nbformat_minor": 2
}
